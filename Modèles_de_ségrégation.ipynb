{
  "nbformat": 4,
  "nbformat_minor": 0,
  "metadata": {
    "colab": {
      "name": "Modèles de ségrégation.ipynb",
      "provenance": [],
      "collapsed_sections": []
    },
    "kernelspec": {
      "name": "python3",
      "display_name": "Python 3"
    }
  },
  "cells": [
    {
      "cell_type": "markdown",
      "metadata": {
        "id": "aCZ8Zj75nI2j",
        "colab_type": "text"
      },
      "source": [
        "# Les modèles de ségrégation "
      ]
    },
    {
      "cell_type": "markdown",
      "metadata": {
        "id": "jP8GUc6RnZ3O",
        "colab_type": "text"
      },
      "source": [
        "Projet d'informatique réalisé par Victor Huynh et Solène Blasco Lopez.\n"
      ]
    },
    {
      "cell_type": "markdown",
      "metadata": {
        "id": "Ibqi5k9HnToQ",
        "colab_type": "text"
      },
      "source": [
        "# Introduction"
      ]
    },
    {
      "cell_type": "markdown",
      "metadata": {
        "id": "TmoI6ugImYHj",
        "colab_type": "text"
      },
      "source": [
        "# I. Ségrégation sociale - le modèle de Schelling"
      ]
    },
    {
      "cell_type": "markdown",
      "metadata": {
        "id": "VMzmMgRemgvU",
        "colab_type": "text"
      },
      "source": [
        "# II. Ségrégation spatiale - le modèle de Grauwin et Jensen"
      ]
    },
    {
      "cell_type": "markdown",
      "metadata": {
        "id": "fAnC4T9AoF3i",
        "colab_type": "text"
      },
      "source": [
        "En 2009, Grauwin et Jensen ont repris et adapté le modèle de ségrégation de Schelling pour étudier la ségrégation spatiale, et les répercussions d’actions à l’échelle microscopique sur l’échelle macroscopique. Cette fois, ils ne considèrent qu’un seul type d’individu dans une ville divisée en quartiers, et étudient leur répartition en introduisant quelques agents altruistes qui cherchent à optimiser l’équilibre agrégé.\n"
      ]
    },
    {
      "cell_type": "markdown",
      "metadata": {
        "id": "kjRr0MUj5Rl0",
        "colab_type": "text"
      },
      "source": [
        "> Les programmes réalisés dans cette section pourront être trouvé dans le dossier `Grauwin`."
      ]
    },
    {
      "cell_type": "markdown",
      "metadata": {
        "id": "9i6u1l_4pV2B",
        "colab_type": "text"
      },
      "source": [
        "## 1.   Implémentation du modèle"
      ]
    },
    {
      "cell_type": "markdown",
      "metadata": {
        "id": "oD2ipHALqho7",
        "colab_type": "text"
      },
      "source": [
        "### a) Définition des paramètres"
      ]
    },
    {
      "cell_type": "markdown",
      "metadata": {
        "id": "PTqQfGHVquhm",
        "colab_type": "text"
      },
      "source": [
        "Dans le modèle de Grauwin et Jensen, on considère une ville représentée par une grille carrée, divisée en $Q=q^2$ quartiers contenant chacun $H=h^2$ emplacements. La taille de la ville est donc $l=h*q$. "
      ]
    },
    {
      "cell_type": "markdown",
      "metadata": {
        "id": "ft_M4K52tblC",
        "colab_type": "text"
      },
      "source": [
        "On y place initialement, et de manière aléatoire, $N$ agents (ou ménages), de sorte que la densité de la ville soit $ρ_0=\\frac{1}{2}$. On a ainsi $N=\\frac{HQ}{2}$ habitants. Parmi eux, on note $α$ la fraction des individus qui sont dits \"altruistes\", c'est-à-dire qui vont agir pour le bien commun et non dans leur propre intérêt. On a $0≤α≤1$."
      ]
    },
    {
      "cell_type": "markdown",
      "metadata": {
        "id": "kHn0U0b-uV_b",
        "colab_type": "text"
      },
      "source": [
        "De plus, on caractérise chaque individu par une fonction d'utilité $u$ dépendant de la densité $ρ$ du quartier dans lequel il vit, et par un paramètre de \"bruit\" $\\frac{1}{T}$. Ce dernier représente l'ancrage des individus dans leur quartier, des contraintes au déménagement qui n'entrent pas ici en compte dans le calcul de l'utilité (par exemple la proximité de leurs amis et de leur travail). Ainsi, quand $T→∞$, le choix des individus est \"irrationnel\", c'est-à-dire qu'ils sont indifférents entre déménager ou non. Au contraire, si $T→0$, le choix est \"rationnel\", et les individus démégent uniquement si cela maximise leur utilité."
      ]
    },
    {
      "cell_type": "markdown",
      "metadata": {
        "id": "jgC3Wc6cuD1u",
        "colab_type": "text"
      },
      "source": [
        "Le modèle de Grauwin et Jensen considère les individus pleinement satisfaits lorsqu'ils habitent dans un quartier de densité $ρ=\\frac{1}{2}$. Cette intuition est due au fait que vivre dans un quartier saturé est contraignant (embouteillages, …), et que vivre dans un quartier trop vide l'est aussi (pas assez de vie, d'infrastructures, ...). On choisit donc, pour simplifier, une fonction d'utilité individuelle linéaire par morceaux, telle que l'utilité soit maximale (égale à 1) si $ρ = \\frac{1}{2}$ : \n",
        "\n",
        "$$\\ u(ρ) = \\left\\{\n",
        "    \\begin{array}{ll}\n",
        "        2ρ & \\mbox{si } ρ ≤ \\frac{1}{2} \\\\\n",
        "        2(m-1)ρ+(2-m) & \\mbox{sinon}\n",
        "    \\end{array}\n",
        "\\right.$$\n",
        "\n",
        "où $m$ est un paramètre d'asymétrie, qui attribue l'utilité $0≤m≤1$ à la densité $ρ = 1$, partant du principe qu'un quartier surpeuplé sera toujours préféré à un quartier très peu peuplé. "
      ]
    },
    {
      "cell_type": "code",
      "metadata": {
        "id": "gRQw_QfYzYpY",
        "colab_type": "code",
        "colab": {
          "base_uri": "https://localhost:8080/",
          "height": 265
        },
        "outputId": "6ff5367d-62bf-4ea9-b28f-50cd99653a14"
      },
      "source": [
        "from matplotlib.pyplot import plot, show, legend\n",
        "\n",
        "plot([0,0.5,1],[0,1,0.2],label='u', c='orange')\n",
        "plot(1,0.2,'o', label='m', c='orange')\n",
        "legend()\n",
        "show()"
      ],
      "execution_count": 11,
      "outputs": [
        {
          "output_type": "display_data",
          "data": {
            "image/png": "[encoded data removed]",
            "text/plain": [
              "<Figure size 432x288 with 1 Axes>"
            ]
          },
          "metadata": {
            "tags": [],
            "needs_background": "light"
          }
        }
      ]
    },
    {
      "cell_type": "markdown",
      "metadata": {
        "id": "nhz70KNM1whD",
        "colab_type": "text"
      },
      "source": [
        "Afin d'implémenter le modèle, on crée deux classes : l'une contenant les paramètres des simulations, et l'autres regroupant les caractéristiques d'une ville lors des simulations. Cette dernière représente une ville par une grille remplie de $0$ (emplacement vide), de $1$ (emplacement occupé par un individu égoïste) et de $2$ (emplacement occupé par un individu altruiste) représentant l'état de la ville, et d'une grille contenant la densité de chaque quartier, pour pouvoir y accéder rapidement. "
      ]
    },
    {
      "cell_type": "code",
      "metadata": {
        "id": "7jKxOIHPtn2p",
        "colab_type": "code",
        "colab": {}
      },
      "source": [
        "class Paramètres :\n",
        "    \"\"\" Classe regroupant tous les paramètres d'une simulation \"\"\"\n",
        "    \n",
        "    def __init__ (self,q,h,T,m,alpha = 0) :\n",
        "        self.q = q  # définit le nombre de quartier Q = q²\n",
        "        self.h = h  # définit le nombre d'emplacements par quartiers H = h²\n",
        "        self.l = h*q  # taille de la ville \n",
        "        \n",
        "        self.N = ((h*q)**2)//2  # Nombre d'agents initialement \n",
        "        self.T = T # Contrainte caractérisant l'ancrage des individus dans leur quartier\n",
        "        self.alpha = alpha  # Coefficient intégrant l'altruisme\n",
        "        \n",
        "        self.u = lambda x : 2*x if x <= 1/2 else (2*(m-1)*x+2-m) # Fonction d'utilité des agents\n",
        "        \n",
        "\n",
        "class Ville :\n",
        "    \"\"\"Classe regroupant toutes les caractéristiques de la ville d'une simulation :\n",
        "        - la ville, sous la forme d'une grille de taille l * l, contenant des 0 si l'emplacement est occupé, des 1 s'il est occupé\n",
        "        - les densités de chaque quartier, sous la forme d'une grille q*q\n",
        "    \"\"\"\n",
        "    \n",
        "    def __init__ (self,ville,densites) :\n",
        "        self.ville = ville\n",
        "        self.densites = densites"
      ],
      "execution_count": 0,
      "outputs": []
    },
    {
      "cell_type": "markdown",
      "metadata": {
        "id": "T_Scv5Kn2igS",
        "colab_type": "text"
      },
      "source": [
        "On peut également définir la fonction d'utilité agrégée de la ville, définie de la manière suivante : \n",
        "\n",
        "$$ U(x) = \\sum_{i=1}^{q} \\sum_{j=1}^{q} n_{i,j} u(ρ_{i,j}) = H \\sum_{i=1}^{q} \\sum_{j=1}^{q} ρ_{i,j} u(ρ_{i,j}) $$\n",
        "\n",
        "pour une configuration $x=(ρ_{i,j})_{0≤i≤q,0≤j≤q}=(\\frac{n_{i,j}}{H})_{0≤i≤q,0≤j≤q}$ de la ville."
      ]
    },
    {
      "cell_type": "code",
      "metadata": {
        "id": "See0l9lJ2thU",
        "colab_type": "code",
        "colab": {}
      },
      "source": [
        "def U(ville,p) :\n",
        "    s = 0\n",
        "    for i in range(p.q) :\n",
        "        for j in range(p.q) :\n",
        "            rho = ville.densites[i,j]\n",
        "            s+= rho * p.u(rho)\n",
        "    H = (p.h)**2\n",
        "    return s * H"
      ],
      "execution_count": 0,
      "outputs": []
    },
    {
      "cell_type": "markdown",
      "metadata": {
        "id": "dV-4I61w4_qB",
        "colab_type": "text"
      },
      "source": [
        "> Les classes et l'utilité agrégée sont regroupés dans le programme `classes.py`.\n",
        "\n"
      ]
    },
    {
      "cell_type": "markdown",
      "metadata": {
        "id": "EO5CP_Cg54rG",
        "colab_type": "text"
      },
      "source": [
        "### b) Initialisation et principe d'itération du modèle"
      ]
    },
    {
      "cell_type": "markdown",
      "metadata": {
        "id": "PPVS8Oz88yt-",
        "colab_type": "text"
      },
      "source": [
        "### c) Tests unitaires et calcul de complexité"
      ]
    },
    {
      "cell_type": "markdown",
      "metadata": {
        "id": "PUSjQjIP847U",
        "colab_type": "text"
      },
      "source": [
        "## 2. Simulations et analyses "
      ]
    },
    {
      "cell_type": "markdown",
      "metadata": {
        "id": "Ud4MZG4omokR",
        "colab_type": "text"
      },
      "source": [
        "# III. Comparaison et association des modèles "
      ]
    },
    {
      "cell_type": "markdown",
      "metadata": {
        "id": "OakAKh68nW_c",
        "colab_type": "text"
      },
      "source": [
        "# Conclusion"
      ]
    }
  ]
}